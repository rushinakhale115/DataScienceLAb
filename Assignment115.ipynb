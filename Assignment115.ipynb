{
 "cells": [
  {
   "cell_type": "code",
   "execution_count": 8,
   "id": "627c0dc0-82cc-4805-ac0a-53e79dbe1614",
   "metadata": {},
   "outputs": [
    {
     "name": "stdin",
     "output_type": "stream",
     "text": [
      "Enter the number: 10\n"
     ]
    },
    {
     "name": "stdout",
     "output_type": "stream",
     "text": [
      "1 2 3 5 8 13 21 34 55 89 \n"
     ]
    }
   ],
   "source": [
    "n =int(input(\"Enter the number:\"))\n",
    "num1 = 0\n",
    "num2 = 1\n",
    "next_number = num2 \n",
    "count = 1\n",
    "\n",
    "while count <= n:\n",
    "\tprint(next_number, end=\" \")\n",
    "\tcount += 1\n",
    "\tnum1,num2 = num2,next_number\n",
    "\tnext_number = num1 + num2\n",
    "print()\n"
   ]
  },
  {
   "cell_type": "code",
   "execution_count": 14,
   "id": "3ce716fb-65b9-44af-aa16-3438756bae42",
   "metadata": {},
   "outputs": [
    {
     "name": "stdin",
     "output_type": "stream",
     "text": [
      "Enter the Number: 6\n"
     ]
    },
    {
     "name": "stdout",
     "output_type": "stream",
     "text": [
      "0\n",
      "1\n",
      "1\n",
      "2\n",
      "3\n",
      "5\n"
     ]
    }
   ],
   "source": [
    "def Fibonacci(n):\n",
    "\tif n < 0:\n",
    "\t\tprint(\"Incorrect input\")\n",
    "\n",
    "\telif n == 0:\n",
    "\t\treturn 0\n",
    "\n",
    "\n",
    "\telif n == 1 or n == 2:\n",
    "\t\treturn 1\n",
    "\n",
    "\telse:\n",
    "\t\treturn Fibonacci(n-1) + Fibonacci(n-2)\n",
    "\n",
    "\n",
    "n=int(input(\"Enter the Number:\"))\n",
    "for i in range(0,n):\n",
    "    print(Fibonacci(i))\n"
   ]
  },
  {
   "cell_type": "code",
   "execution_count": null,
   "id": "cc65dfab-9f05-4f30-bf48-0cacfb7d88de",
   "metadata": {},
   "outputs": [],
   "source": [
    "lst=[2,3,45,6,2,23,2,3,65,7,2,765]\n",
    "lst2=[0]\n",
    "for i in lst:\n",
    "    if lst2[-1]<i:\n",
    "        lst2.append(i)\n",
    "lst.sort()\n",
    "print(\"Second largest Number is:\",lst2[6:3:-2])\n",
    "\n"
   ]
  },
  {
   "cell_type": "code",
   "execution_count": null,
   "id": "1f20bdf8-c243-499c-8c80-229328a32942",
   "metadata": {},
   "outputs": [],
   "source": [
    "lst=[2,3,45,6,2,23,2,3,65,7,2,765]\n",
    "lst2=[0]\n",
    "for i in lst:\n",
    "    if lst2[-1]<i:\n",
    "        lst2.append(i)\n",
    "lst2.sort()\n",
    "print(\"Second largest Number is:\",lst2[])\n"
   ]
  },
  {
   "cell_type": "code",
   "execution_count": null,
   "id": "09ac660a-9b8f-4129-8aec-fe491eb47ef4",
   "metadata": {},
   "outputs": [],
   "source": [
    "lst=[2,3,45,6,2,23,2,3,65,7,2,765]\n",
    "lst2=[0]\n",
    "lst.reverse()\n",
    "print(lst)"
   ]
  },
  {
   "cell_type": "code",
   "execution_count": null,
   "id": "709c1695-97b7-4945-b8c0-781b749520d4",
   "metadata": {},
   "outputs": [],
   "source": []
  }
 ],
 "metadata": {
  "kernelspec": {
   "display_name": "Python 3 (ipykernel)",
   "language": "python",
   "name": "python3"
  },
  "language_info": {
   "codemirror_mode": {
    "name": "ipython",
    "version": 3
   },
   "file_extension": ".py",
   "mimetype": "text/x-python",
   "name": "python",
   "nbconvert_exporter": "python",
   "pygments_lexer": "ipython3",
   "version": "3.12.0"
  }
 },
 "nbformat": 4,
 "nbformat_minor": 5
}
