{
 "cells": [
  {
   "cell_type": "code",
   "execution_count": 5,
   "id": "88ebbace-1ff3-48c1-bce8-76a117eec914",
   "metadata": {},
   "outputs": [
    {
     "name": "stdout",
     "output_type": "stream",
     "text": [
      "                    0            1          2            3          4  \\\n",
      "0               World  109,529,216       2024  105,435,540       2023   \n",
      "1       United States   28,781,083       2024   27,360,935       2023   \n",
      "2               China   18,532,633  [n 1]2024   17,794,782  [n 3]2023   \n",
      "3             Germany    4,591,100       2024    4,456,081       2023   \n",
      "4               Japan    4,110,452       2024    4,212,945       2023   \n",
      "..                ...          ...        ...          ...        ...   \n",
      "205          Kiribati          311       2024          279       2023   \n",
      "206             Palau          308       2024          263       2023   \n",
      "207  Marshall Islands          305       2024          284       2023   \n",
      "208             Nauru          161       2024          154       2023   \n",
      "209            Tuvalu           66       2024           62       2023   \n",
      "\n",
      "               5          6  \n",
      "0    100,834,796       2022  \n",
      "1     25,744,100       2022  \n",
      "2     17,963,170  [n 1]2022  \n",
      "3      4,076,923       2022  \n",
      "4      4,232,173       2022  \n",
      "..           ...        ...  \n",
      "205          223       2022  \n",
      "206          225       2022  \n",
      "207          279       2022  \n",
      "208          147       2022  \n",
      "209           59       2022  \n",
      "\n",
      "[210 rows x 7 columns]\n"
     ]
    }
   ],
   "source": [
    "from bs4 import BeautifulSoup\n",
    "import requests\n",
    "import pandas as pd\n",
    "url=\"https://en.wikipedia.org/wiki/List_of_countries_by_GDP_(nominal)\"\n",
    "response=requests.get(url)\n",
    "soup=BeautifulSoup(response.text,'html.parser')\n",
    "table=soup.find('table',{'class':'wikitable'})\n",
    "data=[]\n",
    "for row in table.find_all('tr')[1:]:\n",
    "    cols=row.find_all('td')\n",
    "    cols=[col.get_text(strip=True)for col in cols]\n",
    "    if cols:\n",
    "        data.append(cols)\n",
    "df=pd.DataFrame(data)\n",
    "print(df)"
   ]
  },
  {
   "cell_type": "code",
   "execution_count": null,
   "id": "9c49c7ca-aba5-4754-a615-ea2328a3d0e6",
   "metadata": {},
   "outputs": [],
   "source": []
  }
 ],
 "metadata": {
  "kernelspec": {
   "display_name": "Python 3 (ipykernel)",
   "language": "python",
   "name": "python3"
  },
  "language_info": {
   "codemirror_mode": {
    "name": "ipython",
    "version": 3
   },
   "file_extension": ".py",
   "mimetype": "text/x-python",
   "name": "python",
   "nbconvert_exporter": "python",
   "pygments_lexer": "ipython3",
   "version": "3.12.4"
  }
 },
 "nbformat": 4,
 "nbformat_minor": 5
}
