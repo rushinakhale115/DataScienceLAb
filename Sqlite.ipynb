{
 "cells": [
  {
   "cell_type": "code",
   "execution_count": 1,
   "id": "69ab8e25-9881-44fd-8b8b-547fea04716e",
   "metadata": {},
   "outputs": [
    {
     "data": {
      "text/html": [
       "<div>\n",
       "<style scoped>\n",
       "    .dataframe tbody tr th:only-of-type {\n",
       "        vertical-align: middle;\n",
       "    }\n",
       "\n",
       "    .dataframe tbody tr th {\n",
       "        vertical-align: top;\n",
       "    }\n",
       "\n",
       "    .dataframe thead th {\n",
       "        text-align: right;\n",
       "    }\n",
       "</style>\n",
       "<table border=\"1\" class=\"dataframe\">\n",
       "  <thead>\n",
       "    <tr style=\"text-align: right;\">\n",
       "      <th></th>\n",
       "      <th>id</th>\n",
       "      <th>Name</th>\n",
       "      <th>Div</th>\n",
       "    </tr>\n",
       "  </thead>\n",
       "  <tbody>\n",
       "    <tr>\n",
       "      <th>0</th>\n",
       "      <td>1</td>\n",
       "      <td>Rushikesh</td>\n",
       "      <td>Div A</td>\n",
       "    </tr>\n",
       "    <tr>\n",
       "      <th>1</th>\n",
       "      <td>2</td>\n",
       "      <td>Ezra</td>\n",
       "      <td>Div B</td>\n",
       "    </tr>\n",
       "    <tr>\n",
       "      <th>2</th>\n",
       "      <td>3</td>\n",
       "      <td>Sabi</td>\n",
       "      <td>Div C</td>\n",
       "    </tr>\n",
       "  </tbody>\n",
       "</table>\n",
       "</div>"
      ],
      "text/plain": [
       "   id       Name    Div\n",
       "0   1  Rushikesh  Div A\n",
       "1   2       Ezra  Div B\n",
       "2   3       Sabi  Div C"
      ]
     },
     "execution_count": 1,
     "metadata": {},
     "output_type": "execute_result"
    }
   ],
   "source": [
    "import sqlite3\n",
    "conn = sqlite3.connect('student_db.sqlite')\n",
    "cursor = conn.cursor()\n",
    "cursor.execute('''\n",
    "\n",
    "CREATE TABLE IF NOT EXISTS Student_data (\n",
    "\n",
    "    id INTEGER PRIMARY KEY,\n",
    "    Name TEXT,\n",
    "    Div TEXT\n",
    ")\n",
    "\n",
    "''')\n",
    "cursor.executemany('''\n",
    "\n",
    "INSERT INTO Student_data (Name,Div)\n",
    "\n",
    "VALUES (?, ?)\n",
    "\n",
    "''', [\n",
    "\n",
    "    ('Rushikesh', 'Div A'),\n",
    "\n",
    "    ('Ezra', 'Div B'),\n",
    "   \n",
    "    ('Sabi','Div C')\n",
    "\n",
    "])\n",
    "conn.commit()\n",
    "import pandas as pd\n",
    "df = pd.read_sql_query(\"SELECT * FROM Student_data\", conn)\n",
    "df.head(3)\n",
    "\n"
   ]
  },
  {
   "cell_type": "code",
   "execution_count": null,
   "id": "44de319a-a492-4833-b20d-369cd700e7ea",
   "metadata": {},
   "outputs": [],
   "source": []
  }
 ],
 "metadata": {
  "kernelspec": {
   "display_name": "Python 3 (ipykernel)",
   "language": "python",
   "name": "python3"
  },
  "language_info": {
   "codemirror_mode": {
    "name": "ipython",
    "version": 3
   },
   "file_extension": ".py",
   "mimetype": "text/x-python",
   "name": "python",
   "nbconvert_exporter": "python",
   "pygments_lexer": "ipython3",
   "version": "3.12.0"
  }
 },
 "nbformat": 4,
 "nbformat_minor": 5
}
